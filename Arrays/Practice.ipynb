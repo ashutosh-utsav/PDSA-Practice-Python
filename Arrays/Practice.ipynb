{
 "cells": [
  {
   "cell_type": "markdown",
   "metadata": {},
   "source": [
    "# This contain all the problems related to Arrays "
   ]
  },
  {
   "cell_type": "markdown",
   "metadata": {},
   "source": [
    "**Q1 - Leetcode 1752. Check if Array Is Sorted and Rotated**"
   ]
  },
  {
   "cell_type": "code",
   "execution_count": null,
   "metadata": {},
   "outputs": [],
   "source": [
    "def check1752(arry):"
   ]
  }
 ],
 "metadata": {
  "kernelspec": {
   "display_name": ".envpdsa",
   "language": "python",
   "name": "python3"
  },
  "language_info": {
   "name": "python",
   "version": "3.13.2"
  }
 },
 "nbformat": 4,
 "nbformat_minor": 2
}
