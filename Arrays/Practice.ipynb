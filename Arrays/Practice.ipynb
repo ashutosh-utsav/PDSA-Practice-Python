{
 "cells": [
  {
   "cell_type": "markdown",
   "metadata": {},
   "source": [
    "# This contain all the problems related to Arrays "
   ]
  },
  {
   "cell_type": "markdown",
   "metadata": {},
   "source": [
    "**Q1 - Leetcode 1752. Check if Array Is Sorted and Rotated**"
   ]
  },
  {
   "cell_type": "code",
   "execution_count": 7,
   "metadata": {},
   "outputs": [
    {
     "name": "stdout",
     "output_type": "stream",
     "text": [
      "True\n"
     ]
    }
   ],
   "source": [
    "def check1752(arr):\n",
    "    n = len(arr)\n",
    "    count = 0\n",
    "    for i in range(n-1):\n",
    "        if arr[i] > arr[(i+1)%n]:\n",
    "            count += 1\n",
    "            if count >1 :\n",
    "                return False\n",
    "    return True\n",
    "\n",
    "\n",
    "arr = [2,1,3,4]\n",
    "\n",
    "print(check1752(arr))\n"
   ]
  },
  {
   "cell_type": "code",
   "execution_count": null,
   "metadata": {},
   "outputs": [],
   "source": []
  }
 ],
 "metadata": {
  "kernelspec": {
   "display_name": ".envpdsa",
   "language": "python",
   "name": "python3"
  },
  "language_info": {
   "codemirror_mode": {
    "name": "ipython",
    "version": 3
   },
   "file_extension": ".py",
   "mimetype": "text/x-python",
   "name": "python",
   "nbconvert_exporter": "python",
   "pygments_lexer": "ipython3",
   "version": "3.13.2"
  }
 },
 "nbformat": 4,
 "nbformat_minor": 2
}
