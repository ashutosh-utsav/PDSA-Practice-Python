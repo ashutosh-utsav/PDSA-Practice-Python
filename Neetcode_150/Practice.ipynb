{
 "cells": [
  {
   "cell_type": "markdown",
   "metadata": {},
   "source": [
    "# This contain all the problems of Neetcode 150"
   ]
  },
  {
   "cell_type": "markdown",
   "metadata": {},
   "source": [
    "**Q1 - Leetcode 1752. Check if Array Is Sorted and Rotated**"
   ]
  },
  {
   "cell_type": "code",
   "execution_count": 7,
   "metadata": {},
   "outputs": [
    {
     "name": "stdout",
     "output_type": "stream",
     "text": [
      "True\n"
     ]
    }
   ],
   "source": [
    "def check1752(arr):\n",
    "    n = len(arr)\n",
    "    count = 0\n",
    "    for i in range(n-1):\n",
    "        if arr[i] > arr[(i+1)%n]:\n",
    "            count += 1\n",
    "            if count >1 :\n",
    "                return False\n",
    "    return True\n",
    "\n",
    "\n",
    "arr = [2,1,3,4]\n",
    "\n",
    "print(check1752(arr))\n"
   ]
  },
  {
   "cell_type": "markdown",
   "metadata": {},
   "source": [
    "**Q2 - Finding the largest in array [Click here](https://www.geeksforgeeks.org/problems/largest-element-in-array4009/0?utm_source=youtube&utm_medium=collab_striver_ytdescription&utm_campaign=largest-element-in-array)**\n"
   ]
  },
  {
   "cell_type": "code",
   "execution_count": 12,
   "metadata": {},
   "outputs": [
    {
     "name": "stdout",
     "output_type": "stream",
     "text": [
      "4\n"
     ]
    }
   ],
   "source": [
    "# approach 1\n",
    "def largestq2(arr):\n",
    "    n = len(arr)\n",
    "    lar = arr[0]\n",
    "\n",
    "    for i in range(n):\n",
    "        if arr[i] > lar:\n",
    "            lar = arr[i]\n",
    "    return lar\n",
    "\n",
    "\n",
    "# approach 2\n",
    "\n",
    "# def largestq2(arr):\n",
    "#     arr.sort()\n",
    "#     lar = arr[-1]\n",
    "#     return lar\n",
    "\n",
    "arr = [2,1,3,4]\n",
    "print(largestq2(arr))"
   ]
  },
  {
   "cell_type": "markdown",
   "metadata": {},
   "source": [
    "**Q3 - Second Largest Element in an Array without sorting[Click here](https://www.geeksforgeeks.org/problems/second-largest3735/1?utm_source=youtube&utm_medium=collab_striver_ytdescription&utm_campaign=second-largest)**\n"
   ]
  },
  {
   "cell_type": "code",
   "execution_count": 3,
   "metadata": {},
   "outputs": [
    {
     "name": "stdout",
     "output_type": "stream",
     "text": [
      "3\n"
     ]
    }
   ],
   "source": [
    "def seclargestq3(arr):\n",
    "    n = len(arr)\n",
    "    lar = arr[0]\n",
    "    sec = -1\n",
    "\n",
    "    for i in range(n):\n",
    "        if arr[i] > lar:\n",
    "            sec = lar\n",
    "            lar = arr[i]\n",
    "        elif arr[i] > sec and arr[i] != lar:\n",
    "            sec = arr[i]\n",
    "    return sec\n",
    "\n",
    "arr = [2,1,3,4]\n",
    "print(seclargestq3(arr))"
   ]
  },
  {
   "cell_type": "markdown",
   "metadata": {},
   "source": [
    "**Leetcode 49**"
   ]
  },
  {
   "cell_type": "code",
   "execution_count": null,
   "metadata": {},
   "outputs": [
    {
     "name": "stdout",
     "output_type": "stream",
     "text": [
      "[['eat', 'tea', 'ate'], ['tan', 'nat'], ['bat']]\n"
     ]
    }
   ],
   "source": [
    "def groupAnagrams(strs):\n",
    "    #difining a dictionary to store all the anagrams\n",
    "    #the key will be the sorted string and the value will be the list of anagrams\n",
    "    dick = {}\n",
    "    for w in strs:\n",
    "        # we are using join because after sorted(w) the output will be a list of words we are using join function to get a otput as a word\n",
    "        sorted_w = ''.join(sorted(w))\n",
    "        if sorted_w in dick:\n",
    "            #if the sorted word is in dict then we are appending the word \"w\" in the values list of the dict\n",
    "            dick[sorted_w].append(w)\n",
    "        else:\n",
    "            #here we are creating a key value pair key as a sorted word and value(w) in a list \n",
    "            dick[sorted_w] = [w]\n",
    "    return list(dick.values())\n",
    "\n",
    "strs = [\"eat\", \"tea\", \"tan\", \"ate\", \"nat\", \"bat\"]\n",
    "print(groupAnagrams(strs))\n"
   ]
  },
  {
   "cell_type": "markdown",
   "metadata": {},
   "source": [
    "**Leetcode 347**"
   ]
  },
  {
   "cell_type": "code",
   "execution_count": 49,
   "metadata": {},
   "outputs": [
    {
     "name": "stdout",
     "output_type": "stream",
     "text": [
      "[1, 2]\n"
     ]
    }
   ],
   "source": [
    "def topKfreq(lst, k):\n",
    "    #creating a dict for storing the key and value(count of the interger appeared)\n",
    "    dick = {}\n",
    "    for i in lst:\n",
    "        # if avl incresing the count by 1\n",
    "        if i in dick:\n",
    "            dick[i] += 1\n",
    "        #if not creating a key with value=1 means count 1\n",
    "        else:\n",
    "            dick[i] = 1\n",
    "        \n",
    "    #sorting the dict with the count(values) because once we will have sorted dict we can pick first k element easly \n",
    "    p = sorted(dick.items(), key=lambda item: item[1], reverse=True)\n",
    "\n",
    "    #creating a empty list for storing the top k elemnt\n",
    "    q = []\n",
    "    for i in range(k):\n",
    "\n",
    "        #basically appending the element which is in the p[i][0] position and the count of the element is in p[i][1]\n",
    "        q.append(p[i][0])\n",
    "\n",
    "    return q\n",
    "    \n",
    "\n",
    "a = [1,1,1,2,2,3]\n",
    "print(topKfreq(a, 2))\n"
   ]
  },
  {
   "cell_type": "markdown",
   "metadata": {},
   "source": [
    "**Leetcode 238**"
   ]
  },
  {
   "cell_type": "code",
   "execution_count": null,
   "metadata": {},
   "outputs": [
    {
     "name": "stdout",
     "output_type": "stream",
     "text": [
      "[24, 12, 8, 6]\n"
     ]
    }
   ],
   "source": [
    "def productofarray(lst):\n",
    "    n = len(lst)\n",
    "\n",
    "    pre = [1]*n\n",
    "    suf = [1]*n\n",
    "\n",
    "    for i in range(1, n):\n",
    "        pre[i] = lst[i-1] *  pre[i-1]\n",
    "    \n",
    "    for i in range(n-2, -1, -1):\n",
    "        suf[i] = lst[i+1] * suf[i+1]\n",
    "\n",
    "    res = []\n",
    "\n",
    "    for i in range(n):\n",
    "        res.append(pre[i]*suf[i])\n",
    "\n",
    "    return res\n",
    "\n",
    "\n",
    "lst1 = [1,2,3,4]\n",
    "\n",
    "print(productofarray(lst1))"
   ]
  },
  {
   "cell_type": "code",
   "execution_count": 71,
   "metadata": {},
   "outputs": [
    {
     "name": "stdout",
     "output_type": "stream",
     "text": [
      "[24, 12, 8, 6]\n"
     ]
    }
   ],
   "source": [
    "def productofarray1(lst):\n",
    "    res = [1]*len(lst)\n",
    "\n",
    "    pre = 1\n",
    "\n",
    "    for i in range(len(lst)):\n",
    "        res[i] = pre\n",
    "        pre = pre*lst[i]\n",
    "    \n",
    "    # res = [1, 1, 2, 6]\n",
    "\n",
    "\n",
    "    pos = 1\n",
    "    for i in range(len(lst)-1, -1, -1):\n",
    "        res[i] *= pos\n",
    "        pos *= lst[i] \n",
    "\n",
    "    # res = [24, 12, 8, 6]\n",
    "\n",
    "    return res\n",
    "\n",
    "lst2 = [1, 2, 3, 4]\n",
    "\n",
    "print(productofarray1(lst2))"
   ]
  },
  {
   "cell_type": "code",
   "execution_count": 105,
   "metadata": {},
   "outputs": [
    {
     "name": "stdout",
     "output_type": "stream",
     "text": [
      "True\n"
     ]
    }
   ],
   "source": [
    "def validsuduko(board):\n",
    "    for i in range(9):\n",
    "        past = set()\n",
    "        for j in range(9):\n",
    "            if board[i][j] == '.':\n",
    "                continue\n",
    "            elif board[i][j] in past:\n",
    "                return False\n",
    "            \n",
    "            past.add(board[i][j])\n",
    "\n",
    "    for i in range(9):\n",
    "        past = set()\n",
    "        for j in range(9):\n",
    "            if board[j][i] == '.':\n",
    "                continue\n",
    "            elif board[j][i] in past:\n",
    "                return False\n",
    "            \n",
    "            past.add(board[j][i])\n",
    "\n",
    "    for square in range(9):\n",
    "        past = set()\n",
    "        for i in range(3):\n",
    "            for j in range(3):\n",
    "                row = (square//3)*3 + i\n",
    "                col = (square%3)*3 + j \n",
    "\n",
    "                if board[row][col] == '.':\n",
    "                    continue\n",
    "                elif board[row][col] in past:\n",
    "                    return False\n",
    "                past.add(board[row][col])\n",
    "    \n",
    "    return True\n",
    "        \n",
    "            \n",
    "\n",
    "\n",
    "board = [[\"5\",\"3\",\".\",\".\",\"7\",\".\",\".\",\".\",\".\"]\n",
    "        ,[\"6\",\".\",\".\",\"1\",\"9\",\"5\",\".\",\".\",\".\"]\n",
    "        ,[\".\",\"9\",\"8\",\".\",\".\",\".\",\".\",\"6\",\".\"]\n",
    "        ,[\"8\",\".\",\".\",\".\",\"6\",\".\",\".\",\".\",\"3\"]\n",
    "        ,[\"4\",\".\",\".\",\"8\",\".\",\"3\",\".\",\".\",\"1\"]\n",
    "        ,[\"7\",\".\",\".\",\".\",\"2\",\".\",\".\",\".\",\"6\"]\n",
    "        ,[\".\",\"6\",\".\",\".\",\".\",\".\",\"2\",\"8\",\".\"]\n",
    "        ,[\".\",\".\",\".\",\"4\",\"1\",\"9\",\".\",\".\",\"5\"]\n",
    "        ,[\".\",\".\",\".\",\".\",\"8\",\".\",\".\",\"7\",\"9\"]]\n",
    "\n",
    "print(validsuduko(board))"
   ]
  },
  {
   "cell_type": "code",
   "execution_count": 1,
   "metadata": {},
   "outputs": [
    {
     "name": "stdout",
     "output_type": "stream",
     "text": [
      "6\n"
     ]
    }
   ],
   "source": [
    "def longestConsecutive(ary):\n",
    "    nums = set(ary)\n",
    "    final_count = 0\n",
    "    for i in nums:\n",
    "        if (i -1) not in nums:\n",
    "            count = 1\n",
    "            while (i + count) in nums:\n",
    "                count += 1\n",
    "            \n",
    "            final_count = max(count, final_count)\n",
    "    return final_count\n",
    "\n",
    "\n",
    "# def longestConsecutive(nums):\n",
    "#     numSet = set(nums)\n",
    "#     longest = 0\n",
    "\n",
    "#     for num in numSet:\n",
    "#         if (num - 1) not in numSet:\n",
    "#             length = 1\n",
    "#             while (num + length) in numSet:\n",
    "#                 length += 1\n",
    "#             longest = max(length, longest)\n",
    "#     return longest\n",
    "\n",
    "nums = [0,3,7,5,8,4,6,0,1]\n",
    "\n",
    "print(longestConsecutive(nums))"
   ]
  },
  {
   "cell_type": "markdown",
   "metadata": {},
   "source": [
    "**Leetcode 20**"
   ]
  },
  {
   "cell_type": "code",
   "execution_count": 20,
   "metadata": {},
   "outputs": [
    {
     "name": "stdout",
     "output_type": "stream",
     "text": [
      "False\n"
     ]
    }
   ],
   "source": [
    "from collections import defaultdict\n",
    "\n",
    "def isvalid(str):\n",
    "    stack = []\n",
    "\n",
    "    dick = {'(':')', '{':'}', '[':']'}\n",
    "    fixed_dic = defaultdict(lambda: None, dick)\n",
    "\n",
    "    for i in str:\n",
    "        if not stack:\n",
    "            stack.append(i)\n",
    "\n",
    "            continue\n",
    "\n",
    "        x = stack[-1]\n",
    "        if i == fixed_dic[x]:\n",
    "            stack.pop()\n",
    "        else:\n",
    "            stack.append(i)\n",
    "\n",
    "    if stack:\n",
    "        return False\n",
    "\n",
    "    return True \n",
    "\n",
    "\n",
    "s = '{}()' #true\n",
    "y = '({)}' #false\n",
    "\n",
    "print(isvalid(y))\n"
   ]
  },
  {
   "cell_type": "code",
   "execution_count": null,
   "metadata": {},
   "outputs": [],
   "source": [
    "# def isvalid(str):\n",
    "#     stack = []\n",
    "\n",
    "\n",
    "#     for chr in str:\n",
    "#         if chr in ['(', '{', '[']:\n",
    "#             stack.append(chr)\n",
    "#         else:\n",
    "#             print(\"hello\")\n",
    "#             if not stack:\n",
    "#                 return False\n",
    "            \n",
    "#             cp = stack.pop()\n",
    "#             print(cp)\n",
    "#             if cp == '(':\n",
    "#                 if chr != ')':\n",
    "#                     return False\n",
    "#             elif cp == '{':\n",
    "#                 if chr != '}':\n",
    "#                     return False\n",
    "\n",
    "#             elif cp == '[':\n",
    "#                 if chr != ']':\n",
    "#                     return False\n",
    "\n",
    "#         print(stack)\n",
    "#         if stack:\n",
    "#             return False\n",
    "\n",
    "#         return True      \n"
   ]
  },
  {
   "cell_type": "markdown",
   "metadata": {},
   "source": [
    "**Leetcode 155**"
   ]
  },
  {
   "cell_type": "code",
   "execution_count": 21,
   "metadata": {},
   "outputs": [],
   "source": [
    "class MinStack:\n",
    "\n",
    "    def __init__(self):\n",
    "        self.stack = []\n",
    "        self.min_stack = []\n",
    "\n",
    "    def push(self, val: int) -> None:\n",
    "        self.stack.append(val)\n",
    "        self.min_stack.append(min(val, self.min_stack[-1] if self.min_stack else val))\n",
    "\n",
    "    def pop(self) -> None:\n",
    "        self.stack.pop()\n",
    "        self.min_stack.pop()\n",
    "\n",
    "    def top(self) -> int:\n",
    "        return self.stack[-1]\n",
    "\n",
    "    def getMin(self) -> int:\n",
    "        return self.min_stack[-1]\n",
    "\n",
    "\n",
    "# Your MinStack object will be instantiated and called as such:\n",
    "# obj = MinStack()\n",
    "# obj.push(val)\n",
    "# obj.pop()\n",
    "# param_3 = obj.top()\n",
    "# param_4 = obj.getMin()"
   ]
  },
  {
   "cell_type": "markdown",
   "metadata": {},
   "source": [
    "**Leetcode 150**"
   ]
  },
  {
   "cell_type": "code",
   "execution_count": null,
   "metadata": {},
   "outputs": [
    {
     "name": "stdout",
     "output_type": "stream",
     "text": [
      "22\n"
     ]
    }
   ],
   "source": [
    "def evalRPN(token):\n",
    "    stack = []\n",
    "\n",
    "    for i in token:\n",
    "        if i in ['+', '-', '*', '/']:\n",
    "            a = stack.pop()\n",
    "            b = stack.pop()\n",
    "            if i == '+':\n",
    "                stack.append(a+b)  \n",
    "            elif i == '-':\n",
    "                stack.append(b - a)\n",
    "            elif i == '/':\n",
    "                stack.append(int(b/a))\n",
    "            elif i == '*':\n",
    "                stack.append(a*b)\n",
    "        else:\n",
    "            stack.append(int(i))\n",
    "\n",
    "    return stack[0]\n",
    "\n",
    "\n",
    "t = [\"10\",\"6\",\"9\",\"3\",\"+\",\"-11\",\"*\",\"/\",\"*\",\"17\",\"+\",\"5\",\"+\"]\n",
    "\n",
    "print(evalRPN(t))"
   ]
  },
  {
   "cell_type": "code",
   "execution_count": null,
   "metadata": {},
   "outputs": [],
   "source": []
  }
 ],
 "metadata": {
  "kernelspec": {
   "display_name": ".envpdsa",
   "language": "python",
   "name": "python3"
  },
  "language_info": {
   "codemirror_mode": {
    "name": "ipython",
    "version": 3
   },
   "file_extension": ".py",
   "mimetype": "text/x-python",
   "name": "python",
   "nbconvert_exporter": "python",
   "pygments_lexer": "ipython3",
   "version": "3.13.2"
  }
 },
 "nbformat": 4,
 "nbformat_minor": 2
}
