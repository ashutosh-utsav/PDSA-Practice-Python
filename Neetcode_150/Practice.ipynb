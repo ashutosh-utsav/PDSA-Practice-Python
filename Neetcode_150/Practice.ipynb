{
 "cells": [
  {
   "cell_type": "markdown",
   "metadata": {},
   "source": [
    "# This contain all the problems related to Arrays "
   ]
  },
  {
   "cell_type": "markdown",
   "metadata": {},
   "source": [
    "**Q1 - Leetcode 1752. Check if Array Is Sorted and Rotated**"
   ]
  },
  {
   "cell_type": "code",
   "execution_count": 7,
   "metadata": {},
   "outputs": [
    {
     "name": "stdout",
     "output_type": "stream",
     "text": [
      "True\n"
     ]
    }
   ],
   "source": [
    "def check1752(arr):\n",
    "    n = len(arr)\n",
    "    count = 0\n",
    "    for i in range(n-1):\n",
    "        if arr[i] > arr[(i+1)%n]:\n",
    "            count += 1\n",
    "            if count >1 :\n",
    "                return False\n",
    "    return True\n",
    "\n",
    "\n",
    "arr = [2,1,3,4]\n",
    "\n",
    "print(check1752(arr))\n"
   ]
  },
  {
   "cell_type": "markdown",
   "metadata": {},
   "source": [
    "**Q2 - Finding the largest in array [Click here](https://www.geeksforgeeks.org/problems/largest-element-in-array4009/0?utm_source=youtube&utm_medium=collab_striver_ytdescription&utm_campaign=largest-element-in-array)**\n"
   ]
  },
  {
   "cell_type": "code",
   "execution_count": 12,
   "metadata": {},
   "outputs": [
    {
     "name": "stdout",
     "output_type": "stream",
     "text": [
      "4\n"
     ]
    }
   ],
   "source": [
    "# approach 1\n",
    "def largestq2(arr):\n",
    "    n = len(arr)\n",
    "    lar = arr[0]\n",
    "\n",
    "    for i in range(n):\n",
    "        if arr[i] > lar:\n",
    "            lar = arr[i]\n",
    "    return lar\n",
    "\n",
    "\n",
    "# approach 2\n",
    "\n",
    "# def largestq2(arr):\n",
    "#     arr.sort()\n",
    "#     lar = arr[-1]\n",
    "#     return lar\n",
    "\n",
    "arr = [2,1,3,4]\n",
    "print(largestq2(arr))"
   ]
  },
  {
   "cell_type": "markdown",
   "metadata": {},
   "source": [
    "**Q3 - Second Largest Element in an Array without sorting[Click here](https://www.geeksforgeeks.org/problems/second-largest3735/1?utm_source=youtube&utm_medium=collab_striver_ytdescription&utm_campaign=second-largest)**\n"
   ]
  },
  {
   "cell_type": "code",
   "execution_count": 3,
   "metadata": {},
   "outputs": [
    {
     "name": "stdout",
     "output_type": "stream",
     "text": [
      "3\n"
     ]
    }
   ],
   "source": [
    "def seclargestq3(arr):\n",
    "    n = len(arr)\n",
    "    lar = arr[0]\n",
    "    sec = -1\n",
    "\n",
    "    for i in range(n):\n",
    "        if arr[i] > lar:\n",
    "            sec = lar\n",
    "            lar = arr[i]\n",
    "        elif arr[i] > sec and arr[i] != lar:\n",
    "            sec = arr[i]\n",
    "    return sec\n",
    "\n",
    "arr = [2,1,3,4]\n",
    "print(seclargestq3(arr))"
   ]
  },
  {
   "cell_type": "markdown",
   "metadata": {},
   "source": [
    "**Leetcode 49**"
   ]
  },
  {
   "cell_type": "code",
   "execution_count": null,
   "metadata": {},
   "outputs": [
    {
     "name": "stdout",
     "output_type": "stream",
     "text": [
      "[['eat', 'tea', 'ate'], ['tan', 'nat'], ['bat']]\n"
     ]
    }
   ],
   "source": [
    "def groupAnagrams(strs):\n",
    "    #difining a dictionary to store all the anagrams\n",
    "    #the key will be the sorted string and the value will be the list of anagrams\n",
    "    dick = {}\n",
    "    for w in strs:\n",
    "        # we are using join because after sorted(w) the output will be a list of words we are using join function to get a otput as a word\n",
    "        sorted_w = ''.join(sorted(w))\n",
    "        if sorted_w in dick:\n",
    "            #if the sorted word is in dict then we are appending the word \"w\" in the values list of the dict\n",
    "            dick[sorted_w].append(w)\n",
    "        else:\n",
    "            #here we are creating a key value pair key as a sorted word and value(w) in a list \n",
    "            dick[sorted_w] = [w]\n",
    "    return list(dick.values())\n",
    "\n",
    "strs = [\"eat\", \"tea\", \"tan\", \"ate\", \"nat\", \"bat\"]\n",
    "print(groupAnagrams(strs))\n"
   ]
  }
 ],
 "metadata": {
  "kernelspec": {
   "display_name": ".envpdsa",
   "language": "python",
   "name": "python3"
  },
  "language_info": {
   "codemirror_mode": {
    "name": "ipython",
    "version": 3
   },
   "file_extension": ".py",
   "mimetype": "text/x-python",
   "name": "python",
   "nbconvert_exporter": "python",
   "pygments_lexer": "ipython3",
   "version": "3.13.2"
  }
 },
 "nbformat": 4,
 "nbformat_minor": 2
}
